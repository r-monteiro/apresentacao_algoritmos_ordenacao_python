{
  "nbformat": 4,
  "nbformat_minor": 0,
  "metadata": {
    "colab": {
      "provenance": []
    },
    "kernelspec": {
      "name": "python3",
      "display_name": "Python 3"
    },
    "language_info": {
      "name": "python"
    }
  },
  "cells": [
    {
      "cell_type": "markdown",
      "source": [
        "#**ALGORITMOS DE ORDENAÇÃO**\n",
        "#**MERGE SORT, QUICK SORT, SHELL SORT**\n",
        "#---------------------\n",
        "#Anna Aló\n",
        "#João Vitor Barbieri\n",
        "#Mateus Natan R. Salgueiro\n",
        "#Paulo Elias T. Generozo\n",
        "#Paulo Henrique R. Gonçalves\n",
        "#Rafael A. M. Monteiro\n",
        "#Thomas Jefferson Américo\n",
        "#Willian Naloto\n",
        "#---------------------"
      ],
      "metadata": {
        "id": "eklQJTpFzFCN"
      }
    },
    {
      "cell_type": "markdown",
      "source": [
        "#**MERGE SORT**"
      ],
      "metadata": {
        "id": "mZTvmLVEy9qm"
      }
    },
    {
      "cell_type": "code",
      "execution_count": null,
      "metadata": {
        "id": "4iTkrh_Dytgq",
        "colab": {
          "base_uri": "https://localhost:8080/"
        },
        "outputId": "21c95996-a758-4e73-da29-435cffd53be3"
      },
      "outputs": [
        {
          "output_type": "stream",
          "name": "stdout",
          "text": [
            "Insira os valores separados por espaço:  18 24 33 2 1 99 59 69 70 22\n",
            "Array original: [18, 24, 33, 2, 1, 99, 59, 69, 70, 22]\n",
            "Array ordenado: [1, 2, 18, 22, 24, 33, 59, 69, 70, 99]\n"
          ]
        }
      ],
      "source": [
        "def merge_sort(arr):\n",
        "    if len(arr) <= 1:\n",
        "        return arr\n",
        "\n",
        "    #Divide a lista ao meio\n",
        "    meio = len(arr) // 2\n",
        "    metade_esquerda = arr[:meio]\n",
        "    metade_direita = arr[meio:]\n",
        "\n",
        "    #Recursivamente ordena as duas metades\n",
        "    metade_esquerda = merge_sort(metade_esquerda)\n",
        "    metade_direita = merge_sort(metade_direita)\n",
        "\n",
        "    #Combina as duas metades ordenadas\n",
        "    return merge(metade_esquerda, metade_direita)\n",
        "\n",
        "def merge(esquerda, direita):\n",
        "    resultado = []\n",
        "    idx_esquerda, idx_direita = 0, 0\n",
        "\n",
        "    #Combina os elementos de ambas as listas ordenadas\n",
        "    while idx_esquerda < len(esquerda) and idx_direita < len(direita):\n",
        "        if esquerda[idx_esquerda] < direita[idx_direita]:\n",
        "            resultado.append(esquerda[idx_esquerda])\n",
        "            idx_esquerda += 1\n",
        "        else:\n",
        "            resultado.append(direita[idx_direita])\n",
        "            idx_direita += 1\n",
        "\n",
        "    #Adiciona os elementos restantes de esquerda (se houver)\n",
        "    while idx_esquerda < len(esquerda):\n",
        "        resultado.append(esquerda[idx_esquerda])\n",
        "        idx_esquerda += 1\n",
        "\n",
        "    #Adiciona os elementos restantes de direita (se houver)\n",
        "    while idx_direita < len(direita):\n",
        "        resultado.append(direita[idx_direita])\n",
        "        idx_direita += 1\n",
        "\n",
        "    return resultado\n",
        "\n",
        "#Input de valores\n",
        "valores = input(\"Insira os valores separados por espaço: \").split()\n",
        "#Convertendo os valores para inteiros\n",
        "arr = [int(valor) for valor in valores]\n",
        "\n",
        "print(\"Array original:\", arr)\n",
        "arr_ordenado = merge_sort(arr)\n",
        "print(\"Array ordenado:\", arr_ordenado)"
      ]
    },
    {
      "cell_type": "markdown",
      "source": [
        "#QUICK SORT"
      ],
      "metadata": {
        "id": "6dwTucHS2h7O"
      }
    },
    {
      "cell_type": "code",
      "source": [
        "def quick_sort(arr):\n",
        "    #Caso base: se a lista tiver tamanho 0 ou 1, retorna a lista como está\n",
        "    if len(arr) <= 1:\n",
        "        return arr\n",
        "\n",
        "    #Escolha do pivô: no exemplo, o pivô é o elemento do meio da lista\n",
        "    pivot = arr[len(arr) // 2]\n",
        "\n",
        "    #Divide a lista em três partes: elementos menores que o pivô, iguais ao pivô e maiores que o pivô\n",
        "    left = [x for x in arr if x < pivot]\n",
        "    middle = [x for x in arr if x == pivot]\n",
        "    right = [x for x in arr if x > pivot]\n",
        "\n",
        "    #Concatena recursivamente as listas ordenadas à esquerda, ao redor do pivô e à direita\n",
        "    return quick_sort(left) + middle + quick_sort(right)\n",
        "\n",
        "#Input de valores\n",
        "valores = input(\"Insira os valores separados por espaço: \").split()\n",
        "#Convertendo os valores para inteiros\n",
        "arr = [int(valor) for valor in valores]\n",
        "\n",
        "print(\"Array original:\", arr)\n",
        "arr_ordenado = quick_sort(arr)\n",
        "print(\"Array ordenado:\", arr_ordenado)\n"
      ],
      "metadata": {
        "colab": {
          "base_uri": "https://localhost:8080/"
        },
        "id": "_C8faIkH2jAk",
        "outputId": "b57853dd-cb28-45b7-bfbc-3c63f3285517"
      },
      "execution_count": null,
      "outputs": [
        {
          "output_type": "stream",
          "name": "stdout",
          "text": [
            "Insira os valores separados por espaço: 50 18 24 32 90 200 40 30\n",
            "Array original: [50, 18, 24, 32, 90, 200, 40, 30]\n",
            "Array ordenado: [18, 24, 30, 32, 40, 50, 90, 200]\n"
          ]
        }
      ]
    },
    {
      "cell_type": "markdown",
      "source": [
        "#SHELL SORT"
      ],
      "metadata": {
        "id": "rWZQQJc15CRi"
      }
    },
    {
      "cell_type": "code",
      "source": [
        "def shell_sort(arr):\n",
        "    n = len(arr)\n",
        "    #Começa com uma lacuna grande e a reduz gradualmente\n",
        "    gap = n // 2\n",
        "\n",
        "    while gap > 0:\n",
        "        #Percorre os elementos da lista a partir da lacuna atual\n",
        "        for i in range(gap, n):\n",
        "            #Salva o valor atual para ser comparado posteriormente\n",
        "            valor_atual = arr[i]\n",
        "            #Move os elementos anteriores ao valor atual, que são maiores que ele, para a frente\n",
        "            j = i\n",
        "            while j >= gap and arr[j - gap] > valor_atual:\n",
        "                arr[j] = arr[j - gap]\n",
        "                j -= gap\n",
        "            #Insere o valor atual na posição correta\n",
        "            arr[j] = valor_atual\n",
        "        #Reduz a lacuna para a próxima iteração\n",
        "        gap //= 2\n",
        "\n",
        "#Input de valores\n",
        "valores = input(\"Insira os valores separados por espaço: \").split()\n",
        "#Convertendo os valores para inteiros\n",
        "arr = [int(valor) for valor in valores]\n",
        "\n",
        "print(\"Array original:\", arr)\n",
        "shell_sort(arr)\n",
        "print(\"Array ordenado:\", arr)"
      ],
      "metadata": {
        "colab": {
          "base_uri": "https://localhost:8080/"
        },
        "id": "-oPmbxEy5DIS",
        "outputId": "d9070df2-6f06-4f42-937a-da86e7334446"
      },
      "execution_count": null,
      "outputs": [
        {
          "output_type": "stream",
          "name": "stdout",
          "text": [
            "Insira os valores separados por espaço:  18 24 3 2 1 33 22 23 90 5\n",
            "Array original: [18, 24, 3, 2, 1, 33, 22, 23, 90, 5]\n",
            "Array ordenado: [1, 2, 3, 5, 18, 22, 23, 24, 33, 90]\n"
          ]
        }
      ]
    }
  ]
}